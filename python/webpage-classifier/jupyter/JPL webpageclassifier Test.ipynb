{
 "cells": [
  {
   "cell_type": "markdown",
   "metadata": {},
   "source": [
    "# Test JPL webpageclassifier\n",
    "\n",
    "Using data from THH set.\n"
   ]
  },
  {
   "cell_type": "code",
   "execution_count": 325,
   "metadata": {
    "collapsed": false
   },
   "outputs": [
    {
     "name": "stdout",
     "output_type": "stream",
     "text": [
      "/Users/Charles.Twardy/PycharmProjects/thh-classifiers\r\n"
     ]
    }
   ],
   "source": [
    "!pwd"
   ]
  },
  {
   "cell_type": "code",
   "execution_count": 349,
   "metadata": {
    "collapsed": false
   },
   "outputs": [
    {
     "data": {
      "text/plain": [
       "522"
      ]
     },
     "execution_count": 349,
     "metadata": {},
     "output_type": "execute_result"
    }
   ],
   "source": [
    "import pandas as pd\n",
    "pd.set_option('display.chop_threshold', 1e-5)\n",
    "pd.set_option('display.latex.repr', True)\n",
    "pd.set_option('display.precision', 2)\n",
    "scores = pd.read_csv('../webpageclassifier/scores.csv')\n",
    "scores = scores.drop('Unnamed: 0', axis=1)\n",
    "len(scores)"
   ]
  },
  {
   "cell_type": "markdown",
   "metadata": {},
   "source": [
    "### Distribution of Confidence by Category"
   ]
  },
  {
   "cell_type": "code",
   "execution_count": 350,
   "metadata": {
    "collapsed": false
   },
   "outputs": [
    {
     "data": {
      "image/png": "[encoded data removed]",
      "text/plain": [
       "<matplotlib.figure.Figure at 0x1159c3eb8>"
      ]
     },
     "metadata": {},
     "output_type": "display_data"
    }
   ],
   "source": [
    "import matplotlib.pyplot as plt\n",
    "%matplotlib inline\n",
    "scores.plot.hist(subplots=True, layout=(4,2))\n",
    "plt.tight_layout()"
   ]
  },
  {
   "cell_type": "markdown",
   "metadata": {},
   "source": [
    "### Raw Accuracy by Category\n",
    "Note that the JPL classifier knows nothing of _search_engines_, so the 0 is uninformative. It also has a hard time telling _classified_ from _shopping_, at least in this incarnation."
   ]
  },
  {
   "cell_type": "code",
   "execution_count": 363,
   "metadata": {
    "collapsed": false,
    "scrolled": true
   },
   "outputs": [
    {
     "data": {
      "text/html": [
       "<div>\n",
       "<table border=\"1\" class=\"dataframe\">\n",
       "  <thead>\n",
       "    <tr style=\"text-align: right;\">\n",
       "      <th></th>\n",
       "      <th>Correct?</th>\n",
       "    </tr>\n",
       "    <tr>\n",
       "      <th>pagetype</th>\n",
       "      <th></th>\n",
       "    </tr>\n",
       "  </thead>\n",
       "  <tbody>\n",
       "    <tr>\n",
       "      <th>blogs</th>\n",
       "      <td>0.67</td>\n",
       "    </tr>\n",
       "    <tr>\n",
       "      <th>classified</th>\n",
       "      <td>0.08</td>\n",
       "    </tr>\n",
       "    <tr>\n",
       "      <th>forums</th>\n",
       "      <td>0.63</td>\n",
       "    </tr>\n",
       "    <tr>\n",
       "      <th>news</th>\n",
       "      <td>0.64</td>\n",
       "    </tr>\n",
       "    <tr>\n",
       "      <th>search_engines</th>\n",
       "      <td>0.00</td>\n",
       "    </tr>\n",
       "    <tr>\n",
       "      <th>shopping</th>\n",
       "      <td>0.72</td>\n",
       "    </tr>\n",
       "    <tr>\n",
       "      <th>wiki</th>\n",
       "      <td>0.80</td>\n",
       "    </tr>\n",
       "  </tbody>\n",
       "</table>\n",
       "</div>"
      ],
      "text/plain": [
       "                Correct?\n",
       "pagetype                \n",
       "blogs               0.67\n",
       "classified          0.08\n",
       "forums              0.63\n",
       "news                0.64\n",
       "search_engines      0.00\n",
       "shopping            0.72\n",
       "wiki                0.80"
      ]
     },
     "execution_count": 363,
     "metadata": {},
     "output_type": "execute_result"
    }
   ],
   "source": [
    "scores.filter(['pagetype','Correct?']).groupby('pagetype').mean()"
   ]
  },
  {
   "cell_type": "markdown",
   "metadata": {},
   "source": [
    "### Brier Score\n",
    "All scores are in [0,1], so squared loss on $x^2$ or $(1-x)^2$ makes sense, but it's not a true Brier score because these scores are unnormalized: they do not usually sum to 1.0 For quick benchmark, we compare them to a uniform $1/k$ forecast for $k=8$ categories."
   ]
  },
  {
   "cell_type": "code",
   "execution_count": 368,
   "metadata": {
    "collapsed": false
   },
   "outputs": [
    {
     "data": {
      "text/plain": [
       "note                         NaN\n",
       "pagetype                shopping\n",
       "realurl                      NaN\n",
       "url           http://vodafone.ie\n",
       "Best                    shopping\n",
       "blog                           0\n",
       "classified                  0.42\n",
       "forum                       0.18\n",
       "news                        0.27\n",
       "shopping                    0.45\n",
       "undecided                      0\n",
       "wiki                           0\n",
       "Plural                 shoppings\n",
       "Correct?                    True\n",
       "Name: 0, dtype: object"
      ]
     },
     "execution_count": 368,
     "metadata": {},
     "output_type": "execute_result"
    }
   ],
   "source": [
    "scores.ix[0]"
   ]
  },
  {
   "cell_type": "code",
   "execution_count": 392,
   "metadata": {
    "collapsed": false
   },
   "outputs": [
    {
     "name": "stdout",
     "output_type": "stream",
     "text": [
      "Accuracy:  0.50 = 260/522\n",
      "Brier   :  0.68\n",
      "Uniform :  0.76\n"
     ]
    }
   ],
   "source": [
    "brier_tot, hits, N = 0, 0, len(scores)\n",
    "for i in range(N):\n",
    "    row = scores.ix[i]\n",
    "    cat = row['pagetype'][:4]\n",
    "    brier_row = 0\n",
    "    if row['Correct?']:\n",
    "        hits += 1\n",
    "    for col in ['blog','classified','forum','news','shopping','undecided','wiki']:\n",
    "        val = row[col]\n",
    "        if col.startswith(cat):\n",
    "            brier_row += (1-val)**2\n",
    "        else:\n",
    "            brier_row += val**2\n",
    "    brier_tot += brier_row\n",
    "brier = brier_tot/N\n",
    "print('Accuracy: {:5.2f} = {:d}/{:d}'.format(hits/N, hits, N))\n",
    "print('Brier   : {:5.2f}'.format(brier))\n",
    "print('Uniform : {:5.2f}'.format((1/7)**2 + (6/7)**2))"
   ]
  },
  {
   "cell_type": "markdown",
   "metadata": {},
   "source": [
    "So... hit rate so-so but clearly better than uniform guess. OTOH, Brier is only about 11% better than uniform, so not well-calibrated. Likely getting clobbered on some 1/0 guesses."
   ]
  },
  {
   "cell_type": "markdown",
   "metadata": {},
   "source": [
    "#### Normalize..."
   ]
  },
  {
   "cell_type": "code",
   "execution_count": 333,
   "metadata": {
    "collapsed": false
   },
   "outputs": [
    {
     "data": {
      "text/html": [
       "<div>\n",
       "<table border=\"1\" class=\"dataframe\">\n",
       "  <thead>\n",
       "    <tr style=\"text-align: right;\">\n",
       "      <th></th>\n",
       "      <th>blog</th>\n",
       "      <th>classified</th>\n",
       "      <th>forum</th>\n",
       "      <th>news</th>\n",
       "      <th>shopping</th>\n",
       "      <th>undecided</th>\n",
       "      <th>wiki</th>\n",
       "    </tr>\n",
       "    <tr>\n",
       "      <th>pagetype</th>\n",
       "      <th></th>\n",
       "      <th></th>\n",
       "      <th></th>\n",
       "      <th></th>\n",
       "      <th></th>\n",
       "      <th></th>\n",
       "      <th></th>\n",
       "    </tr>\n",
       "  </thead>\n",
       "  <tbody>\n",
       "    <tr>\n",
       "      <th>blogs</th>\n",
       "      <td>6.71e-01</td>\n",
       "      <td>0.04</td>\n",
       "      <td>0.06</td>\n",
       "      <td>5.18e-02</td>\n",
       "      <td>0.06</td>\n",
       "      <td>0.11</td>\n",
       "      <td>0.00</td>\n",
       "    </tr>\n",
       "    <tr>\n",
       "      <th>classified</th>\n",
       "      <td>0.00e+00</td>\n",
       "      <td>0.18</td>\n",
       "      <td>0.07</td>\n",
       "      <td>4.59e-03</td>\n",
       "      <td>0.24</td>\n",
       "      <td>0.50</td>\n",
       "      <td>0.01</td>\n",
       "    </tr>\n",
       "    <tr>\n",
       "      <th>forums</th>\n",
       "      <td>0.00e+00</td>\n",
       "      <td>0.04</td>\n",
       "      <td>0.68</td>\n",
       "      <td>3.03e-02</td>\n",
       "      <td>0.05</td>\n",
       "      <td>0.19</td>\n",
       "      <td>0.00</td>\n",
       "    </tr>\n",
       "    <tr>\n",
       "      <th>news</th>\n",
       "      <td>9.01e-03</td>\n",
       "      <td>0.10</td>\n",
       "      <td>0.08</td>\n",
       "      <td>6.22e-01</td>\n",
       "      <td>0.12</td>\n",
       "      <td>0.07</td>\n",
       "      <td>0.00</td>\n",
       "    </tr>\n",
       "    <tr>\n",
       "      <th>search_engines</th>\n",
       "      <td>0.00e+00</td>\n",
       "      <td>0.13</td>\n",
       "      <td>0.08</td>\n",
       "      <td>7.57e-02</td>\n",
       "      <td>0.20</td>\n",
       "      <td>0.49</td>\n",
       "      <td>0.02</td>\n",
       "    </tr>\n",
       "    <tr>\n",
       "      <th>shopping</th>\n",
       "      <td>0.00e+00</td>\n",
       "      <td>0.22</td>\n",
       "      <td>0.13</td>\n",
       "      <td>1.41e-01</td>\n",
       "      <td>0.40</td>\n",
       "      <td>0.11</td>\n",
       "      <td>0.00</td>\n",
       "    </tr>\n",
       "    <tr>\n",
       "      <th>wiki</th>\n",
       "      <td>0.00e+00</td>\n",
       "      <td>0.03</td>\n",
       "      <td>0.01</td>\n",
       "      <td>3.27e-03</td>\n",
       "      <td>0.03</td>\n",
       "      <td>0.13</td>\n",
       "      <td>0.80</td>\n",
       "    </tr>\n",
       "  </tbody>\n",
       "</table>\n",
       "</div>"
      ],
      "text/plain": [
       "                    blog  classified  forum      news  shopping  undecided  \\\n",
       "pagetype                                                                     \n",
       "blogs           6.71e-01        0.04   0.06  5.18e-02      0.06       0.11   \n",
       "classified      0.00e+00        0.18   0.07  4.59e-03      0.24       0.50   \n",
       "forums          0.00e+00        0.04   0.68  3.03e-02      0.05       0.19   \n",
       "news            9.01e-03        0.10   0.08  6.22e-01      0.12       0.07   \n",
       "search_engines  0.00e+00        0.13   0.08  7.57e-02      0.20       0.49   \n",
       "shopping        0.00e+00        0.22   0.13  1.41e-01      0.40       0.11   \n",
       "wiki            0.00e+00        0.03   0.01  3.27e-03      0.03       0.13   \n",
       "\n",
       "                wiki  \n",
       "pagetype              \n",
       "blogs           0.00  \n",
       "classified      0.01  \n",
       "forums          0.00  \n",
       "news            0.00  \n",
       "search_engines  0.02  \n",
       "shopping        0.00  \n",
       "wiki            0.80  "
      ]
     },
     "execution_count": 333,
     "metadata": {},
     "output_type": "execute_result"
    }
   ],
   "source": [
    "vals = scores.filter(['blog','classified','forum','news','shopping','undecided','wiki'])\n",
    "totals = vals.sum(axis=1)\n",
    "probs = vals.divide(totals, axis=0)\n",
    "probs['pagetype'] = scores['pagetype']\n",
    "p2 = probs.groupby('pagetype')\n",
    "p2.mean()"
   ]
  },
  {
   "cell_type": "code",
   "execution_count": 109,
   "metadata": {
    "collapsed": false
   },
   "outputs": [
    {
     "data": {
      "text/html": [
       "<div>\n",
       "<table border=\"1\" class=\"dataframe\">\n",
       "  <thead>\n",
       "    <tr style=\"text-align: right;\">\n",
       "      <th></th>\n",
       "      <th>blog</th>\n",
       "      <th>classified</th>\n",
       "      <th>forum</th>\n",
       "      <th>news</th>\n",
       "      <th>shopping</th>\n",
       "      <th>undecided</th>\n",
       "      <th>wiki</th>\n",
       "    </tr>\n",
       "    <tr>\n",
       "      <th>Category</th>\n",
       "      <th></th>\n",
       "      <th></th>\n",
       "      <th></th>\n",
       "      <th></th>\n",
       "      <th></th>\n",
       "      <th></th>\n",
       "      <th></th>\n",
       "    </tr>\n",
       "  </thead>\n",
       "  <tbody>\n",
       "    <tr>\n",
       "      <th>blog</th>\n",
       "      <td>2.0</td>\n",
       "      <td>1.087669</td>\n",
       "      <td>0.972621</td>\n",
       "      <td>0.547532</td>\n",
       "      <td>0.913231</td>\n",
       "      <td>1.478945</td>\n",
       "      <td>0.0</td>\n",
       "    </tr>\n",
       "    <tr>\n",
       "      <th>classified</th>\n",
       "      <td>0.0</td>\n",
       "      <td>4.128168</td>\n",
       "      <td>1.506255</td>\n",
       "      <td>0.260696</td>\n",
       "      <td>4.560287</td>\n",
       "      <td>3.544593</td>\n",
       "      <td>0.0</td>\n",
       "    </tr>\n",
       "    <tr>\n",
       "      <th>forum</th>\n",
       "      <td>0.0</td>\n",
       "      <td>1.156890</td>\n",
       "      <td>4.742543</td>\n",
       "      <td>0.279284</td>\n",
       "      <td>0.732880</td>\n",
       "      <td>1.088402</td>\n",
       "      <td>0.0</td>\n",
       "    </tr>\n",
       "    <tr>\n",
       "      <th>news</th>\n",
       "      <td>0.0</td>\n",
       "      <td>0.751032</td>\n",
       "      <td>0.874030</td>\n",
       "      <td>4.463309</td>\n",
       "      <td>0.911629</td>\n",
       "      <td>0.000000</td>\n",
       "      <td>0.0</td>\n",
       "    </tr>\n",
       "    <tr>\n",
       "      <th>shopping</th>\n",
       "      <td>0.0</td>\n",
       "      <td>1.250387</td>\n",
       "      <td>1.284371</td>\n",
       "      <td>1.446583</td>\n",
       "      <td>2.123414</td>\n",
       "      <td>0.895245</td>\n",
       "      <td>0.0</td>\n",
       "    </tr>\n",
       "    <tr>\n",
       "      <th>undecided</th>\n",
       "      <td>0.0</td>\n",
       "      <td>1.508440</td>\n",
       "      <td>0.506151</td>\n",
       "      <td>0.769978</td>\n",
       "      <td>1.410738</td>\n",
       "      <td>3.804693</td>\n",
       "      <td>0.0</td>\n",
       "    </tr>\n",
       "    <tr>\n",
       "      <th>wiki</th>\n",
       "      <td>0.0</td>\n",
       "      <td>0.000000</td>\n",
       "      <td>0.000000</td>\n",
       "      <td>0.000000</td>\n",
       "      <td>0.000000</td>\n",
       "      <td>0.000000</td>\n",
       "      <td>6.0</td>\n",
       "    </tr>\n",
       "  </tbody>\n",
       "</table>\n",
       "</div>"
      ],
      "text/plain": [
       "            blog  classified     forum      news  shopping  undecided  wiki\n",
       "Category                                                                   \n",
       "blog         2.0    1.087669  0.972621  0.547532  0.913231   1.478945   0.0\n",
       "classified   0.0    4.128168  1.506255  0.260696  4.560287   3.544593   0.0\n",
       "forum        0.0    1.156890  4.742543  0.279284  0.732880   1.088402   0.0\n",
       "news         0.0    0.751032  0.874030  4.463309  0.911629   0.000000   0.0\n",
       "shopping     0.0    1.250387  1.284371  1.446583  2.123414   0.895245   0.0\n",
       "undecided    0.0    1.508440  0.506151  0.769978  1.410738   3.804693   0.0\n",
       "wiki         0.0    0.000000  0.000000  0.000000  0.000000   0.000000   6.0"
      ]
     },
     "execution_count": 109,
     "metadata": {},
     "output_type": "execute_result"
    }
   ],
   "source": [
    "p2.sum()"
   ]
  },
  {
   "cell_type": "code",
   "execution_count": 10,
   "metadata": {
    "collapsed": false
   },
   "outputs": [
    {
     "data": {
      "text/plain": [
       "0.3456133690197021"
      ]
     },
     "execution_count": 10,
     "metadata": {},
     "output_type": "execute_result"
    }
   ],
   "source": [
    "import timeit\n",
    "timeit.timeit(\"D[12]**2\", setup=\"D = dict(((x,2*x) for x in range(1000)))\")"
   ]
  },
  {
   "cell_type": "code",
   "execution_count": 11,
   "metadata": {
    "collapsed": false
   },
   "outputs": [
    {
     "data": {
      "text/plain": [
       "0.10721423698123544"
      ]
     },
     "execution_count": 11,
     "metadata": {},
     "output_type": "execute_result"
    }
   ],
   "source": [
    "timeit.timeit(\"D[12] * D[12]\", setup=\"D = dict(((x,2*x) for x in range(1000)))\")"
   ]
  },
  {
   "cell_type": "code",
   "execution_count": 8,
   "metadata": {
    "collapsed": false
   },
   "outputs": [
    {
     "data": {
      "text/plain": [
       "0.015308437985368073"
      ]
     },
     "execution_count": 8,
     "metadata": {},
     "output_type": "execute_result"
    }
   ],
   "source": [
    "timeit.timeit(\"12**2\")"
   ]
  },
  {
   "cell_type": "code",
   "execution_count": 9,
   "metadata": {
    "collapsed": false
   },
   "outputs": [
    {
     "data": {
      "text/plain": [
       "0.015080999000929296"
      ]
     },
     "execution_count": 9,
     "metadata": {},
     "output_type": "execute_result"
    }
   ],
   "source": [
    "timeit.timeit(\"12*12\")"
   ]
  },
  {
   "cell_type": "code",
   "execution_count": 13,
   "metadata": {
    "collapsed": false
   },
   "outputs": [
    {
     "data": {
      "text/plain": [
       "['a', 'b', 'd']"
      ]
     },
     "execution_count": 13,
     "metadata": {},
     "output_type": "execute_result"
    }
   ],
   "source": [
    "X=['a','b','c','d']\n",
    "X.remove('c')\n",
    "X"
   ]
  },
  {
   "cell_type": "code",
   "execution_count": 14,
   "metadata": {
    "collapsed": true
   },
   "outputs": [],
   "source": [
    "X += 'e'"
   ]
  },
  {
   "cell_type": "code",
   "execution_count": 15,
   "metadata": {
    "collapsed": false
   },
   "outputs": [
    {
     "data": {
      "text/plain": [
       "['a', 'b', 'd', 'e']"
      ]
     },
     "execution_count": 15,
     "metadata": {},
     "output_type": "execute_result"
    }
   ],
   "source": [
    "X"
   ]
  },
  {
   "cell_type": "code",
   "execution_count": 16,
   "metadata": {
    "collapsed": false
   },
   "outputs": [
    {
     "data": {
      "text/plain": [
       "0.11082028108648956"
      ]
     },
     "execution_count": 16,
     "metadata": {},
     "output_type": "execute_result"
    }
   ],
   "source": [
    "timeit.timeit(\"X += 'f'\", setup=\"X=['a','b','c','d']\")"
   ]
  },
  {
   "cell_type": "code",
   "execution_count": 17,
   "metadata": {
    "collapsed": false
   },
   "outputs": [
    {
     "data": {
      "text/plain": [
       "0.07505967293400317"
      ]
     },
     "execution_count": 17,
     "metadata": {},
     "output_type": "execute_result"
    }
   ],
   "source": [
    "timeit.timeit(\"X.append('f')\", setup=\"X=['a','b','c','d']\")"
   ]
  },
  {
   "cell_type": "code",
   "execution_count": 20,
   "metadata": {
    "collapsed": false
   },
   "outputs": [
    {
     "data": {
      "text/plain": [
       "[(1, 3), (2, 3), (3, 6)]"
      ]
     },
     "execution_count": 20,
     "metadata": {},
     "output_type": "execute_result"
    }
   ],
   "source": [
    "[(k,v) for k,v in {1:3, 2:3, 3:6}.items()]"
   ]
  },
  {
   "cell_type": "code",
   "execution_count": null,
   "metadata": {
    "collapsed": true
   },
   "outputs": [],
   "source": []
  }
 ],
 "metadata": {
  "anaconda-cloud": {},
  "kernelspec": {
   "display_name": "Python [conda env:py35]",
   "language": "python",
   "name": "conda-env-py35-py"
  },
  "language_info": {
   "codemirror_mode": {
    "name": "ipython",
    "version": 3
   },
   "file_extension": ".py",
   "mimetype": "text/x-python",
   "name": "python",
   "nbconvert_exporter": "python",
   "pygments_lexer": "ipython3",
   "version": "3.5.2"
  }
 },
 "nbformat": 4,
 "nbformat_minor": 0
}
